{
 "cells": [
  {
   "cell_type": "code",
   "execution_count": null,
   "id": "7413b630",
   "metadata": {
    "scrolled": false
   },
   "outputs": [
    {
     "name": "stderr",
     "output_type": "stream",
     "text": [
      "2021-12-02 02:25:09.612 python[1739:60356] *** Assertion failure in -[NSOpenPanel beginServicePanel:asyncExHandler:], NSVBOpenAndSavePanels.m:1907\n",
      "2021-12-02 02:25:09.625 python[1739:60356] -[NSSavePanel beginWithCompletionHandler:]_block_invoke caught non-fatal NSInternalInconsistencyException '<NSOpenPanel: 0x7fba4f72d290> is attempting to advance this Open/Save panel to run phase while another self.advanceToRunPhaseCompletionHandler is in waiting for a previous attempt. An Open/Save panel cannot start to advance more than once.' with user dictionary {\n",
      "    NSAssertFile = \"NSVBOpenAndSavePanels.m\";\n",
      "    NSAssertLine = 1907;\n",
      "} and backtrace (\n",
      "\t0   CoreFoundation                      0x00007ff81d904e5b __exceptionPreprocess + 242\n",
      "\t1   libobjc.A.dylib                     0x00007ff81d665b9d objc_exception_throw + 48\n",
      "\t2   Foundation                          0x00007ff81e7bb653 -[NSAssertionHandler handleFailureInMethod:object:file:lineNumber:description:] + 267\n",
      "\t3   AppKit                              0x00007ff820cbe269 -[NSSavePanel beginServicePanel:asyncExHandler:] + 475\n",
      "\t4   AppKit                              0x00007ff820cbf51d -[NSSavePanel runModal] + 297\n",
      "\t5   libtk8.6.dylib                      0x000000010e392003 showOpenSavePanel + 195\n",
      "\t6   libtk8.6.dylib                      0x000000010e39167d Tk_GetOpenFileObjCmd + 2205\n",
      "\t7   libtcl8.6.dylib                     0x000000010dfc20d2 Tcl_EvalObjv + 370\n",
      "\t8   _tkinter.cpython-38-darwin.so       0x000000010d4ba19b Tkapp_Call + 203\n",
      "\t9   python3.8                           0x000000010c978ee8 cfunction_call_varargs + 216\n",
      "\t10  python3.8                           0x000000010cac1a92 _PyEval_EvalFrameDefault + 49330\n",
      "\t11  python3.8                           0x000000010cab3dc4 _PyEval_EvalCodeWithName + 564\n",
      "\t12  python3.8                           0x000000010c9798ca _PyFunction_Vectorcall + 426\n",
      "\t13  python3.8                           0x000000010cac3e32 call_function + 162\n",
      "\t14  python3.8                           0x000000010cac0353 _PyEval_EvalFrameDefault + 43379\n",
      "\t15  python3.8                           0x000000010cab3dc4 _PyEval_EvalCodeWithName + 564\n",
      "\t16  python3.8                           0x000000010c9798ca _PyFunction_Vectorcall + 426\n",
      "\t17  python3.8                           0x000000010cac3e32 call_function + 162\n",
      "\t18  python3.8                           0x000000010cac17e7 _PyEval_EvalFrameDefault + 48647\n",
      "\t19  python3.8                           0x000000010cab3dc4 _PyEval_EvalCodeWithName + 564\n",
      "\t20  python3.8                           0x000000010caae839 builtin_exec + 361\n",
      "\t21  python3.8                           0x000000010c9d7104 cfunction_vectorcall_FASTCALL + 84\n",
      "\t22  python3.8                           0x000000010cac3e32 call_function + 162\n",
      "\t23  python3.8                           0x000000010cac17e7 _PyEval_EvalFrameDefault + 48647\n",
      "\t24  python3.8                           0x000000010c991ff8 gen_send_ex + 168\n",
      "\t25  python3.8                           0x000000010cabb449 _PyEval_EvalFrameDefault + 23145\n",
      "\t26  python3.8                           0x000000010c991ff8 gen_send_ex + 168\n",
      "\t27  python3.8                           0x000000010cabb449 _PyEval_EvalFrameDefault + 23145\n",
      "\t28  python3.8                           0x000000010c991ff8 gen_send_ex + 168\n",
      "\t29  python3.8                           0x000000010c987e4a method_vectorcall_O + 138\n",
      "\t30  python3.8                           0x000000010cac3e32 call_function + 162\n",
      "\t31  python3.8                           0x000000010cac0353 _PyEval_EvalFrameDefault + 43379\n",
      "\t32  python3.8                           0x000000010c979818 _PyFunction_Vectorcall + 248\n",
      "\t33  python3.8                           0x000000010cac3e32 call_function + 162\n",
      "\t34  python3.8                           0x000000010cac17e7 _PyEval_EvalFrameDefault + 48647\n",
      "\t35  python3.8                           0x000000010c979818 _PyFunction_Vectorcall + 248\n",
      "\t36  python3.8                           0x000000010cac3e32 call_function + 162\n",
      "\t37  python3.8                           0x000000010cac0353 _PyEval_EvalFrameDefault + 43379\n",
      "\t38  python3.8                           0x000000010cab3dc4 _PyEval_EvalCodeWithName + 564\n",
      "\t39  python3.8                           0x000000010c9798ca _PyFunction_Vectorcall + 426\n",
      "\t40  python3.8                           0x000000010c97d40d method_vectorcall + 349\n",
      "\t41  python3.8                           0x000000010c978a69 PyVectorcall_Call + 121\n",
      "\t42  python3.8                           0x000000010cac1994 _PyEval_EvalFrameDefault + 49076\n",
      "\t43  python3.8                           0x000000010cab3dc4 _PyEval_EvalCodeWithName + 564\n",
      "\t44  python3.8                           0x000000010c9798ca _PyFunction_Vectorcall + 426\n",
      "\t45  python3.8                           0x000000010c97d33d method_vectorcall + 141\n",
      "\t46  python3.8                           0x000000010cac3e32 call_function + 162\n",
      "\t47  python3.8                           0x000000010cac188d _PyEval_EvalFrameDefault + 48813\n",
      "\t48  python3.8                           0x000000010c991ff8 gen_send_ex + 168\n",
      "\t49  python3.8                           0x000000010cabb449 _PyEval_EvalFrameDefault + 23145\n",
      "\t50  python3.8                           0x000000010c991ff8 gen_send_ex + 168\n",
      "\t51  python3.8                           0x000000010cabb449 _PyEval_EvalFrameDefault + 23145\n",
      "\t52  python3.8                           0x000000010c991ff8 gen_send_ex + 168\n",
      "\t53  python3.8                           0x000000010cabb449 _PyEval_EvalFrameDefault + 23145\n",
      "\t54  python3.8                           0x000000010c991ff8 gen_send_ex + 168\n",
      "\t55  python3.8                           0x000000010cabb449 _PyEval_EvalFrameDefault + 23145\n",
      "\t56  python3.8                           0x000000010c991ff8 gen_send_ex + 168\n",
      "\t57  _asyncio.cpython-38-darwin.so       0x000000010d269d4b task_step + 171\n",
      "\t58  _asyncio.cpython-38-darwin.so       0x000000010d269ad8 TaskWakeupMethWrapper_call + 152\n",
      "\t59  python3.8                           0x000000010c97821d _PyObject_MakeTpCall + 173\n",
      "\t60  python3.8                           0x000000010caf34d2 context_run + 210\n",
      "\t61  python3.8                           0x000000010c9d724c cfunction_vectorcall_FASTCALL_KEYWORDS + 76\n",
      "\t62  python3.8                           0x000000010c978a69 PyVectorcall_Call + 121\n",
      "\t63  python3.8                           0x000000010cac1b4d _PyEval_EvalFrameDefault + 49517\n",
      "\t64  python3.8                           0x000000010c979818 _PyFunction_Vectorcall + 248\n",
      "\t65  python3.8                           0x000000010cac3e32 call_function + 162\n",
      "\t66  python3.8                           0x000000010cac0353 _PyEval_EvalFrameDefault + 43379\n",
      "\t67  python3.8                           0x000000010c979818 _PyFunction_Vectorcall + 248\n",
      "\t68  python3.8                           0x000000010cac3e32 call_function + 162\n",
      "\t69  python3.8                           0x000000010cac0353 _PyEval_EvalFrameDefault + 43379\n",
      "\t70  python3.8                           0x000000010c979818 _PyFunction_Vectorcall + 248\n",
      "\t71  python3.8                           0x000000010cac3e32 call_function + 162\n",
      "\t72  python3.8                           0x000000010cac0353 _PyEval_EvalFrameDefault + 43379\n",
      "\t73  python3.8                           0x000000010c979818 _PyFunction_Vectorcall + 248\n",
      "\t74  python3.8                           0x000000010cac3e32 call_function + 162\n",
      "\t75  python3.8                           0x000000010cac0353 _PyEval_EvalFrameDefault + 43379\n",
      "\t76  python3.8                           0x000000010c979818 _PyFunction_Vectorcall + 248\n",
      "\t77  python3.8                           0x000000010cac3e32 call_function + 162\n",
      "\t78  python3.8                           0x000000010cac0353 _PyEval_EvalFrameDefault + 43379\n",
      "\t79  python3.8                           0x000000010cab3dc4 _PyEval_EvalCodeWithName + 564\n",
      "\t80  python3.8                           0x000000010c9798ca _PyFunction_Vectorcall + 426\n",
      "\t81  python3.8                           0x000000010c97d33d method_vectorcall + 141\n",
      "\t82  python3.8                           0x000000010cac3e32 call_function + 162\n",
      "\t83  python3.8                           0x000000010cac03e2 _PyEval_EvalFrameDefault + 43522\n",
      "\t84  python3.8                           0x000000010cab3dc4 _PyEval_EvalCodeWithName + 564\n",
      "\t85  python3.8                           0x000000010caae839 builtin_exec + 361\n",
      "\t86  python3.8                           0x000000010c9d7104 cfunction_vectorcall_FASTCALL + 84\n",
      "\t87  python3.8                           0x000000010cac3e32 call_function + 162\n",
      "\t88  python3.8                           0x000000010cac17e7 _PyEval_EvalFrameDefault + 48647\n",
      "\t89  python3.8                           0x000000010cab3dc4 _PyEval_EvalCodeWithName + 564\n",
      "\t90  python3.8                           0x000000010c9798ca _PyFunction_Vectorcall + 426\n",
      "\t91  python3.8                           0x000000010cac3e32 call_function + 162\n",
      "\t92  python3.8                           0x000000010cac17e7 _PyEval_EvalFrameDefault + 48647\n",
      "\t93  python3.8                           0x000000010cab3dc4 _PyEval_EvalCodeWithName + 564\n",
      "\t94  python3.8                           0x000000010c9798ca _PyFunction_Vectorcall + 426\n",
      "\t95  python3.8                           0x000000010c978a69 PyVectorcall_Call + 121\n",
      "\t96  python3.8                           0x000000010cb63efb pymain_run_module + 235\n",
      "\t97  python3.8                           0x000000010cb63781 pymain_run_python + 289\n",
      "\t98  python3.8                           0x000000010cb63605 Py_RunMain + 37\n",
      "\t99  python3.8                           0x000000010cb64e21 pymain_main + 49\n",
      "\t100 python3.8                           0x000000010c94b678 main + 56\n",
      "\t101 dyld                                0x00000001122d54fe start + 462\n",
      ")\n",
      "2021-12-02 02:25:09.701 python[1739:60356] Warning: Expected min height of view: (<NSButton: 0x7fba3819afe0>) to be less than or equal to 30 but got a height of 32.000000. This error will be logged once per view in violation.\n"
     ]
    },
    {
     "name": "stderr",
     "output_type": "stream",
     "text": [
      "2021-12-02 02:25:11.954 python[1739:60356] Warning: Expected min height of view: (<NSButton: 0x7fba38198e60>) to be less than or equal to 30 but got a height of 32.000000. This error will be logged once per view in violation.\n",
      "2021-12-02 02:25:46,019 - INFO - Instabot version: 0.108.0 Started\n",
      "2021-12-02 02:25:46,020 - DEBUG - Bot imported from /Users/emmanuel_bamidele/opt/anaconda3/lib/python3.8/site-packages/instabot/bot/bot.py\n",
      "2021-12-02 02:25:51,023 - INFO - PRE-LOGIN FLOW!... \n",
      "2021-12-02 02:25:52,206 - DEBUG - POST to endpoint: accounts/read_msisdn_header/ returned response: <Response [200]>\n",
      "2021-12-02 02:25:54,358 - DEBUG - POST to endpoint: launcher/sync/ returned response: <Response [200]>\n",
      "2021-12-02 02:25:55,501 - DEBUG - POST to endpoint: qe/sync/ returned response: <Response [200]>\n",
      "2021-12-02 02:25:57,639 - DEBUG - POST to endpoint: attribution/log_attribution/ returned response: <Response [200]>\n",
      "2021-12-02 02:25:58,847 - DEBUG - POST to endpoint: accounts/contact_point_prefill/ returned response: <Response [200]>\n",
      "2021-12-02 02:26:01,682 - DEBUG - POST to endpoint: accounts/login/ returned response: <Response [200]>\n",
      "2021-12-02 02:26:01,683 - INFO - Logged-in successfully as 'pbrans__'!\n",
      "2021-12-02 02:26:01,685 - INFO - LOGIN FLOW! Just logged-in: True\n",
      "2021-12-02 02:26:03,865 - DEBUG - POST to endpoint: launcher/sync/ returned response: <Response [200]>\n",
      "2021-12-02 02:26:05,155 - DEBUG - POST to endpoint: qe/sync/ returned response: <Response [200]>\n",
      "2021-12-02 02:26:08,028 - DEBUG - POST to endpoint: feed/timeline/ returned response: <Response [200]>\n",
      "2021-12-02 02:26:10,231 - DEBUG - POST to endpoint: feed/reels_tray/ returned response: <Response [200]>\n",
      "2021-12-02 02:26:12,409 - DEBUG - POST to endpoint: fbsearch/suggested_searches/ returned response: <Response [200]>\n",
      "2021-12-02 02:26:14,555 - DEBUG - POST to endpoint: fbsearch/suggested_searches/ returned response: <Response [200]>\n",
      "2021-12-02 02:26:15,690 - DEBUG - POST to endpoint: direct_v2/ranked_recipients/ returned response: <Response [405]>\n",
      "2021-12-02 02:26:15,692 - DEBUG - Responsecode indicates error; response content: b''\n",
      "2021-12-02 02:26:15,693 - ERROR - Request returns 405 error!\n",
      "2021-12-02 02:26:15,694 - ERROR - Error checking for `feedback_required`, response text is not JSON\n",
      "2021-12-02 02:26:15,695 - INFO - Full Response: <Response [405]>\n",
      "2021-12-02 02:26:15,696 - INFO - Response Text: \n",
      "2021-12-02 02:26:15,697 - ERROR - Error unknown send request\n",
      "2021-12-02 02:26:16,832 - DEBUG - POST to endpoint: direct_v2/ranked_recipients/ returned response: <Response [405]>\n",
      "2021-12-02 02:26:16,833 - DEBUG - Responsecode indicates error; response content: b''\n",
      "2021-12-02 02:26:16,834 - ERROR - Request returns 405 error!\n",
      "2021-12-02 02:26:16,835 - ERROR - Error checking for `feedback_required`, response text is not JSON\n",
      "2021-12-02 02:26:16,836 - INFO - Full Response: <Response [405]>\n",
      "2021-12-02 02:26:16,838 - INFO - Response Text: \n",
      "2021-12-02 02:26:16,838 - ERROR - Error unknown send request\n",
      "2021-12-02 02:26:19,059 - DEBUG - POST to endpoint: direct_v2/inbox/ returned response: <Response [200]>\n",
      "2021-12-02 02:26:21,222 - DEBUG - GET to endpoint: direct_v2/get_presence/ returned response: <Response [200]>\n",
      "2021-12-02 02:26:22,932 - DEBUG - GET to endpoint: news/inbox/?limited_activity=true&show_su=true returned response: <Response [200]>\n",
      "2021-12-02 02:26:25,119 - DEBUG - GET to endpoint: loom/fetch_config/ returned response: <Response [200]>\n",
      "2021-12-02 02:26:26,262 - DEBUG - GET to endpoint: users/profile_notice/ returned response: <Response [200]>\n",
      "2021-12-02 02:26:28,597 - DEBUG - POST to endpoint: qp/batch_fetch/ returned response: <Response [200]>\n",
      "2021-12-02 02:26:30,871 - DEBUG - POST to endpoint: discover/explore/ returned response: <Response [200]>\n",
      "2021-12-02 02:26:30,877 - DEBUG - Loading Checkpoint file from: /Users/emmanuel_bamidele/Desktop/Bamspace/Data_Science_Tutorial/Python projects/Codes/IP Address/config/pbrans__.checkpoint\n",
      "2021-12-02 02:26:30,877 - INFO - Follow following of: mufasatundeednut\n",
      "2021-12-02 02:26:33,444 - DEBUG - GET to endpoint: users/mufasatundeednut/usernameinfo/ returned response: <Response [200]>\n",
      "2021-12-02 02:26:35,979 - DEBUG - GET to endpoint: users/45485661238/info/ returned response: <Response [200]>\n",
      "Getting followings of 45485661238:   0%|                                            | 0/754 [00:00<?, ?it/s]2021-12-02 02:26:38,439 - DEBUG - GET to endpoint: friendships/45485661238/following/?max_id=&ig_sig_key_version=4&rank_token=50881728146_d66a35c6-3222-4ec7-81f7-5bdf7ca4a326 returned response: <Response [200]>\n",
      "Getting followings of 45485661238:   0%|                                    | 1/754 [00:02<30:34,  2.44s/it]2021-12-02 02:26:41,208 - DEBUG - GET to endpoint: friendships/45485661238/following/?max_id=100&ig_sig_key_version=4&rank_token=50881728146_d66a35c6-3222-4ec7-81f7-5bdf7ca4a326 returned response: <Response [200]>\n",
      "Getting followings of 45485661238:  13%|████▌                             | 101/754 [00:05<00:29, 22.51it/s]2021-12-02 02:26:43,763 - DEBUG - GET to endpoint: friendships/45485661238/following/?max_id=200&ig_sig_key_version=4&rank_token=50881728146_d66a35c6-3222-4ec7-81f7-5bdf7ca4a326 returned response: <Response [200]>\n",
      "Getting followings of 45485661238:  27%|█████████                         | 201/754 [00:07<00:18, 29.98it/s]2021-12-02 02:26:46,183 - DEBUG - GET to endpoint: friendships/45485661238/following/?max_id=300&ig_sig_key_version=4&rank_token=50881728146_d66a35c6-3222-4ec7-81f7-5bdf7ca4a326 returned response: <Response [200]>\n",
      "Getting followings of 45485661238:  40%|█████████████▌                    | 301/754 [00:10<00:13, 34.27it/s]2021-12-02 02:26:48,608 - DEBUG - GET to endpoint: friendships/45485661238/following/?max_id=400&ig_sig_key_version=4&rank_token=50881728146_d66a35c6-3222-4ec7-81f7-5bdf7ca4a326 returned response: <Response [200]>\n",
      "Getting followings of 45485661238:  53%|██████████████████                | 401/754 [00:12<00:09, 36.72it/s]2021-12-02 02:26:50,141 - DEBUG - GET to endpoint: friendships/45485661238/following/?max_id=500&ig_sig_key_version=4&rank_token=50881728146_d66a35c6-3222-4ec7-81f7-5bdf7ca4a326 returned response: <Response [200]>\n",
      "Getting followings of 45485661238:  66%|██████████████████████▌           | 501/754 [00:14<00:05, 43.59it/s]2021-12-02 02:26:51,707 - DEBUG - GET to endpoint: friendships/45485661238/following/?max_id=600&ig_sig_key_version=4&rank_token=50881728146_d66a35c6-3222-4ec7-81f7-5bdf7ca4a326 returned response: <Response [200]>\n",
      "Getting followings of 45485661238:  80%|███████████████████████████       | 601/754 [00:15<00:03, 48.86it/s]2021-12-02 02:26:53,208 - DEBUG - GET to endpoint: friendships/45485661238/following/?max_id=700&ig_sig_key_version=4&rank_token=50881728146_d66a35c6-3222-4ec7-81f7-5bdf7ca4a326 returned response: <Response [200]>\n",
      "Getting followings of 45485661238: 100%|██████████████████████████████████| 754/754 [00:17<00:00, 43.82it/s]\n",
      "2021-12-02 02:26:53,213 - INFO - Going to follow 754 users.\n"
     ]
    },
    {
     "name": "stdout",
     "output_type": "stream",
     "text": [
      "\u001b[32m\n",
      "Going to follow 754 users.\u001b[0m\n",
      "\u001b[32m\n",
      "After filtering followed, unfollowed and `/Users/emmanuel_bamidele/Desktop/Bamspace/Data_Science_Tutorial/Python projects/Codes/IP Address/config/skipped.txt`, 754 user_ids left to follow.\u001b[0m\n"
     ]
    },
    {
     "name": "stderr",
     "output_type": "stream",
     "text": [
      "Processed users:   0%|                                                              | 0/754 [00:00<?, ?it/s]2021-12-02 02:26:53,218 - INFO - Going to follow `user_id` 48420612.\n"
     ]
    },
    {
     "name": "stdout",
     "output_type": "stream",
     "text": [
      "\u001b[32m\n",
      "`bot.following` is empty, will download.\u001b[0m\n"
     ]
    },
    {
     "name": "stderr",
     "output_type": "stream",
     "text": [
      "2021-12-02 02:26:57,566 - DEBUG - GET to endpoint: users/50881728146/info/ returned response: <Response [200]>\n",
      "\n",
      "Getting followings of 50881728146:   0%|                                              | 0/9 [00:00<?, ?it/s]\u001b[A2021-12-02 02:26:58,766 - DEBUG - GET to endpoint: friendships/50881728146/following/?max_id=&ig_sig_key_version=4&rank_token=50881728146_d66a35c6-3222-4ec7-81f7-5bdf7ca4a326 returned response: <Response [200]>\n",
      "\n",
      "Getting followings of 50881728146: 100%|██████████████████████████████████████| 9/9 [00:01<00:00,  7.51it/s]\u001b[A\n",
      "2021-12-02 02:27:01,036 - DEBUG - GET to endpoint: users/48420612/info/ returned response: <Response [200]>\n",
      "Processed users:   0%|                                                    | 1/754 [00:07<1:38:09,  7.82s/it]2021-12-02 02:27:01,041 - INFO - Going to follow `user_id` 212717329.\n"
     ]
    },
    {
     "name": "stdout",
     "output_type": "stream",
     "text": [
      "\n",
      "USER_NAME: sinarambo, FOLLOWER: 314074, FOLLOWING: 2092\n",
      "\u001b[31m\n",
      "info: is VERIFIED, skipping !\u001b[0m\n",
      "\u001b[;1m\u001b[32mAdding '48420612' to `/Users/emmanuel_bamidele/Desktop/Bamspace/Data_Science_Tutorial/Python projects/Codes/IP Address/config/skipped.txt`.\u001b[0m\u001b[0m\n"
     ]
    },
    {
     "name": "stderr",
     "output_type": "stream",
     "text": [
      "2021-12-02 02:27:03,542 - DEBUG - GET to endpoint: users/212717329/info/ returned response: <Response [200]>\n",
      "Processed users:   0%|▏                                                     | 2/754 [00:10<58:50,  4.69s/it]2021-12-02 02:27:03,546 - INFO - Going to follow `user_id` 496267991.\n"
     ]
    },
    {
     "name": "stdout",
     "output_type": "stream",
     "text": [
      "\n",
      "USER_NAME: 1rxnat, FOLLOWER: 49914, FOLLOWING: 592\n",
      "\u001b[31m\n",
      "follower_count > bot.max_followers_to_follow, skipping!\u001b[0m\n",
      "\u001b[;1m\u001b[32mAdding '212717329' to `/Users/emmanuel_bamidele/Desktop/Bamspace/Data_Science_Tutorial/Python projects/Codes/IP Address/config/skipped.txt`.\u001b[0m\u001b[0m\n"
     ]
    },
    {
     "name": "stderr",
     "output_type": "stream",
     "text": [
      "2021-12-02 02:27:07,827 - DEBUG - GET to endpoint: users/496267991/info/ returned response: <Response [200]>\n",
      "Processed users:   0%|▏                                                     | 3/754 [00:14<56:24,  4.51s/it]2021-12-02 02:27:07,830 - INFO - Going to follow `user_id` 970561386.\n"
     ]
    },
    {
     "name": "stdout",
     "output_type": "stream",
     "text": [
      "\n",
      "USER_NAME: shadyville08, FOLLOWER: 267721, FOLLOWING: 2798\n",
      "\u001b[31m\n",
      "follower_count > bot.max_followers_to_follow, skipping!\u001b[0m\n",
      "\u001b[;1m\u001b[32mAdding '496267991' to `/Users/emmanuel_bamidele/Desktop/Bamspace/Data_Science_Tutorial/Python projects/Codes/IP Address/config/skipped.txt`.\u001b[0m\u001b[0m\n"
     ]
    },
    {
     "name": "stderr",
     "output_type": "stream",
     "text": [
      "2021-12-02 02:27:12,356 - DEBUG - GET to endpoint: users/970561386/info/ returned response: <Response [200]>\n",
      "Processed users:   1%|▎                                                     | 4/754 [00:19<56:27,  4.52s/it]2021-12-02 02:27:12,360 - INFO - Going to follow `user_id` 2104484458.\n"
     ]
    },
    {
     "name": "stdout",
     "output_type": "stream",
     "text": [
      "\n",
      "USER_NAME: adedimejilateef, FOLLOWER: 2957782, FOLLOWING: 5448\n",
      "\u001b[31m\n",
      "info: is VERIFIED, skipping !\u001b[0m\n",
      "\u001b[;1m\u001b[32mAdding '970561386' to `/Users/emmanuel_bamidele/Desktop/Bamspace/Data_Science_Tutorial/Python projects/Codes/IP Address/config/skipped.txt`.\u001b[0m\u001b[0m\n"
     ]
    },
    {
     "name": "stderr",
     "output_type": "stream",
     "text": [
      "2021-12-02 02:27:18,127 - DEBUG - GET to endpoint: users/2104484458/info/ returned response: <Response [200]>\n",
      "Processed users:   1%|▎                                                   | 5/754 [00:24<1:02:01,  4.97s/it]2021-12-02 02:27:18,131 - INFO - Going to follow `user_id` 173837159.\n"
     ]
    },
    {
     "name": "stdout",
     "output_type": "stream",
     "text": [
      "\n",
      "USER_NAME: chiefhunnitbands, FOLLOWER: 61517, FOLLOWING: 125\n",
      "\u001b[31m\n",
      "info: is VERIFIED, skipping !\u001b[0m\n",
      "\u001b[;1m\u001b[32mAdding '2104484458' to `/Users/emmanuel_bamidele/Desktop/Bamspace/Data_Science_Tutorial/Python projects/Codes/IP Address/config/skipped.txt`.\u001b[0m\u001b[0m\n"
     ]
    },
    {
     "name": "stderr",
     "output_type": "stream",
     "text": [
      "2021-12-02 02:27:21,593 - DEBUG - GET to endpoint: users/173837159/info/ returned response: <Response [200]>\n",
      "Processed users:   1%|▍                                                     | 6/754 [00:28<55:34,  4.46s/it]2021-12-02 02:27:21,597 - INFO - Going to follow `user_id` 345844516.\n"
     ]
    },
    {
     "name": "stdout",
     "output_type": "stream",
     "text": [
      "\n",
      "USER_NAME: therealzeez, FOLLOWER: 50011, FOLLOWING: 1835\n",
      "\u001b[31m\n",
      "info: is BUSINESS, skipping!\u001b[0m\n",
      "\u001b[;1m\u001b[32mAdding '173837159' to `/Users/emmanuel_bamidele/Desktop/Bamspace/Data_Science_Tutorial/Python projects/Codes/IP Address/config/skipped.txt`.\u001b[0m\u001b[0m\n"
     ]
    },
    {
     "name": "stderr",
     "output_type": "stream",
     "text": [
      "2021-12-02 02:27:25,008 - DEBUG - GET to endpoint: users/345844516/info/ returned response: <Response [200]>\n",
      "Processed users:   1%|▌                                                     | 7/754 [00:31<51:15,  4.12s/it]2021-12-02 02:27:25,012 - INFO - Going to follow `user_id` 3616119006.\n"
     ]
    },
    {
     "name": "stdout",
     "output_type": "stream",
     "text": [
      "\n",
      "USER_NAME: mariachikebenjamin, FOLLOWER: 901361, FOLLOWING: 672\n",
      "\u001b[31m\n",
      "info: is VERIFIED, skipping !\u001b[0m\n",
      "\u001b[;1m\u001b[32mAdding '345844516' to `/Users/emmanuel_bamidele/Desktop/Bamspace/Data_Science_Tutorial/Python projects/Codes/IP Address/config/skipped.txt`.\u001b[0m\u001b[0m\n"
     ]
    },
    {
     "name": "stderr",
     "output_type": "stream",
     "text": [
      "2021-12-02 02:27:28,619 - DEBUG - GET to endpoint: users/3616119006/info/ returned response: <Response [200]>\n",
      "Processed users:   1%|▌                                                     | 8/754 [00:35<49:11,  3.96s/it]2021-12-02 02:27:28,623 - INFO - Going to follow `user_id` 910566839.\n"
     ]
    },
    {
     "name": "stdout",
     "output_type": "stream",
     "text": [
      "\n",
      "USER_NAME: iam_gheefty, FOLLOWER: 21396, FOLLOWING: 1047\n",
      "\u001b[31m\n",
      "follower_count > bot.max_followers_to_follow, skipping!\u001b[0m\n",
      "\u001b[;1m\u001b[32mAdding '3616119006' to `/Users/emmanuel_bamidele/Desktop/Bamspace/Data_Science_Tutorial/Python projects/Codes/IP Address/config/skipped.txt`.\u001b[0m\u001b[0m\n"
     ]
    },
    {
     "name": "stderr",
     "output_type": "stream",
     "text": [
      "2021-12-02 02:27:32,506 - DEBUG - GET to endpoint: users/910566839/info/ returned response: <Response [200]>\n",
      "2021-12-02 02:27:32,509 - DEBUG - post data: {\"user_id\": \"910566839\", \"radio_type\": \"wifi-none\", \"device_id\": \"android-d70127a7f7600032\", \"_uuid\": \"d66a35c6-3222-4ec7-81f7-5bdf7ca4a326\", \"_uid\": \"50881728146\", \"_csrftoken\": \"fmoDTrAWLylWUhkbxsGjcUW6JOuBsJdz\"}\n"
     ]
    },
    {
     "name": "stdout",
     "output_type": "stream",
     "text": [
      "\n",
      "USER_NAME: iam_djsoto, FOLLOWER: 1909, FOLLOWING: 1205\n"
     ]
    },
    {
     "name": "stderr",
     "output_type": "stream",
     "text": [
      "2021-12-02 02:27:34,475 - DEBUG - POST to endpoint: friendships/create/910566839/ returned response: <Response [200]>\n",
      "2021-12-02 02:27:34,476 - INFO - Followed `user_id` 910566839.\n",
      "Processed users:   1%|▋                                                     | 9/754 [00:41<56:29,  4.55s/it]2021-12-02 02:27:34,480 - INFO - Going to follow `user_id` 179787665.\n"
     ]
    },
    {
     "name": "stdout",
     "output_type": "stream",
     "text": [
      "\u001b[;1m\u001b[32mAdding '910566839' to `/Users/emmanuel_bamidele/Desktop/Bamspace/Data_Science_Tutorial/Python projects/Codes/IP Address/config/followed.txt`.\u001b[0m\u001b[0m\n"
     ]
    },
    {
     "name": "stderr",
     "output_type": "stream",
     "text": [
      "2021-12-02 02:27:36,832 - DEBUG - GET to endpoint: users/179787665/info/ returned response: <Response [200]>\n",
      "Processed users:   1%|▋                                                    | 10/754 [00:43<48:01,  3.87s/it]2021-12-02 02:27:36,836 - INFO - Going to follow `user_id` 354499447.\n"
     ]
    },
    {
     "name": "stdout",
     "output_type": "stream",
     "text": [
      "\n",
      "USER_NAME: dprincemavin, FOLLOWER: 557934, FOLLOWING: 201\n",
      "\u001b[31m\n",
      "info: is VERIFIED, skipping !\u001b[0m\n",
      "\u001b[;1m\u001b[32mAdding '179787665' to `/Users/emmanuel_bamidele/Desktop/Bamspace/Data_Science_Tutorial/Python projects/Codes/IP Address/config/skipped.txt`.\u001b[0m\u001b[0m\n"
     ]
    },
    {
     "name": "stderr",
     "output_type": "stream",
     "text": [
      "2021-12-02 02:27:42,337 - DEBUG - GET to endpoint: users/354499447/info/ returned response: <Response [200]>\n",
      "Processed users:   1%|▊                                                    | 11/754 [00:49<54:08,  4.37s/it]2021-12-02 02:27:42,340 - INFO - Going to follow `user_id` 402770946.\n"
     ]
    },
    {
     "name": "stdout",
     "output_type": "stream",
     "text": [
      "\n",
      "USER_NAME: sujimoto81, FOLLOWER: 208034, FOLLOWING: 6232\n",
      "\u001b[31m\n",
      "info: is BUSINESS, skipping!\u001b[0m\n",
      "\u001b[;1m\u001b[32mAdding '354499447' to `/Users/emmanuel_bamidele/Desktop/Bamspace/Data_Science_Tutorial/Python projects/Codes/IP Address/config/skipped.txt`.\u001b[0m\u001b[0m\n"
     ]
    },
    {
     "name": "stderr",
     "output_type": "stream",
     "text": [
      "2021-12-02 02:27:44,633 - DEBUG - GET to endpoint: users/402770946/info/ returned response: <Response [200]>\n",
      "Processed users:   2%|▊                                                    | 12/754 [00:51<46:15,  3.74s/it]2021-12-02 02:27:44,638 - INFO - Going to follow `user_id` 436438948.\n"
     ]
    },
    {
     "name": "stdout",
     "output_type": "stream",
     "text": [
      "\n",
      "USER_NAME: shakar_el, FOLLOWER: 14265, FOLLOWING: 2667\n",
      "\u001b[31m\n",
      "follower_count > bot.max_followers_to_follow, skipping!\u001b[0m\n",
      "\u001b[;1m\u001b[32mAdding '402770946' to `/Users/emmanuel_bamidele/Desktop/Bamspace/Data_Science_Tutorial/Python projects/Codes/IP Address/config/skipped.txt`.\u001b[0m\u001b[0m\n"
     ]
    },
    {
     "name": "stderr",
     "output_type": "stream",
     "text": [
      "2021-12-02 02:27:47,825 - DEBUG - GET to endpoint: users/436438948/info/ returned response: <Response [200]>\n",
      "Processed users:   2%|▉                                                    | 13/754 [00:54<44:08,  3.57s/it]2021-12-02 02:27:47,830 - INFO - Going to follow `user_id` 249688404.\n"
     ]
    },
    {
     "name": "stdout",
     "output_type": "stream",
     "text": [
      "\n",
      "USER_NAME: thegirltalker, FOLLOWER: 104030, FOLLOWING: 2219\n",
      "\u001b[31m\n",
      "info: is BUSINESS, skipping!\u001b[0m\n",
      "\u001b[;1m\u001b[32mAdding '436438948' to `/Users/emmanuel_bamidele/Desktop/Bamspace/Data_Science_Tutorial/Python projects/Codes/IP Address/config/skipped.txt`.\u001b[0m\u001b[0m\n"
     ]
    },
    {
     "name": "stderr",
     "output_type": "stream",
     "text": [
      "2021-12-02 02:27:50,022 - DEBUG - GET to endpoint: users/249688404/info/ returned response: <Response [200]>\n",
      "Processed users:   2%|▉                                                    | 14/754 [00:56<38:57,  3.16s/it]2021-12-02 02:27:50,027 - INFO - Going to follow `user_id` 227960252.\n"
     ]
    },
    {
     "name": "stdout",
     "output_type": "stream",
     "text": [
      "\n",
      "USER_NAME: monicafriday1, FOLLOWER: 185113, FOLLOWING: 5303\n",
      "\u001b[31m\n",
      "info: is VERIFIED, skipping !\u001b[0m\n",
      "\u001b[;1m\u001b[32mAdding '249688404' to `/Users/emmanuel_bamidele/Desktop/Bamspace/Data_Science_Tutorial/Python projects/Codes/IP Address/config/skipped.txt`.\u001b[0m\u001b[0m\n"
     ]
    },
    {
     "name": "stderr",
     "output_type": "stream",
     "text": [
      "2021-12-02 02:27:53,014 - DEBUG - GET to endpoint: users/227960252/info/ returned response: <Response [200]>\n",
      "Processed users:   2%|█                                                    | 15/754 [00:59<38:16,  3.11s/it]2021-12-02 02:27:53,018 - INFO - Going to follow `user_id` 146166054.\n"
     ]
    },
    {
     "name": "stdout",
     "output_type": "stream",
     "text": [
      "\n",
      "USER_NAME: preciouslemmy, FOLLOWER: 92188, FOLLOWING: 244\n",
      "\u001b[31m\n",
      "info: is VERIFIED, skipping !\u001b[0m\n",
      "\u001b[;1m\u001b[32mAdding '227960252' to `/Users/emmanuel_bamidele/Desktop/Bamspace/Data_Science_Tutorial/Python projects/Codes/IP Address/config/skipped.txt`.\u001b[0m\u001b[0m\n"
     ]
    },
    {
     "name": "stderr",
     "output_type": "stream",
     "text": [
      "2021-12-02 02:27:58,515 - DEBUG - GET to endpoint: users/146166054/info/ returned response: <Response [200]>\n",
      "Processed users:   2%|█                                                    | 16/754 [01:05<47:05,  3.83s/it]2021-12-02 02:27:58,520 - INFO - Going to follow `user_id` 364291272.\n"
     ]
    },
    {
     "name": "stdout",
     "output_type": "stream",
     "text": [
      "\n",
      "USER_NAME: eldeethedon, FOLLOWER: 112052, FOLLOWING: 1237\n",
      "\u001b[31m\n",
      "info: is VERIFIED, skipping !\u001b[0m\n",
      "\u001b[;1m\u001b[32mAdding '146166054' to `/Users/emmanuel_bamidele/Desktop/Bamspace/Data_Science_Tutorial/Python projects/Codes/IP Address/config/skipped.txt`.\u001b[0m\u001b[0m\n"
     ]
    },
    {
     "name": "stderr",
     "output_type": "stream",
     "text": [
      "2021-12-02 02:28:03,001 - DEBUG - GET to endpoint: users/364291272/info/ returned response: <Response [200]>\n",
      "Processed users:   2%|█▏                                                   | 17/754 [01:09<49:27,  4.03s/it]2021-12-02 02:28:03,005 - INFO - Going to follow `user_id` 7303632568.\n"
     ]
    },
    {
     "name": "stdout",
     "output_type": "stream",
     "text": [
      "\n",
      "USER_NAME: kikz_stephy, FOLLOWER: 5215, FOLLOWING: 889\n",
      "\u001b[31m\n",
      "follower_count > bot.max_followers_to_follow, skipping!\u001b[0m\n",
      "\u001b[;1m\u001b[32mAdding '364291272' to `/Users/emmanuel_bamidele/Desktop/Bamspace/Data_Science_Tutorial/Python projects/Codes/IP Address/config/skipped.txt`.\u001b[0m\u001b[0m\n"
     ]
    },
    {
     "name": "stderr",
     "output_type": "stream",
     "text": [
      "2021-12-02 02:28:06,015 - DEBUG - GET to endpoint: users/7303632568/info/ returned response: <Response [200]>\n",
      "Processed users:   2%|█▎                                                   | 18/754 [01:12<45:39,  3.72s/it]2021-12-02 02:28:06,020 - INFO - Going to follow `user_id` 2478420039.\n"
     ]
    },
    {
     "name": "stdout",
     "output_type": "stream",
     "text": [
      "\n",
      "USER_NAME: temilayo_abodunrin, FOLLOWER: 133676, FOLLOWING: 915\n",
      "\u001b[31m\n",
      "info: is VERIFIED, skipping !\u001b[0m\n",
      "\u001b[;1m\u001b[32mAdding '7303632568' to `/Users/emmanuel_bamidele/Desktop/Bamspace/Data_Science_Tutorial/Python projects/Codes/IP Address/config/skipped.txt`.\u001b[0m\u001b[0m\n"
     ]
    },
    {
     "name": "stderr",
     "output_type": "stream",
     "text": [
      "2021-12-02 02:28:09,390 - DEBUG - GET to endpoint: users/2478420039/info/ returned response: <Response [200]>\n",
      "Processed users:   3%|█▎                                                   | 19/754 [01:16<44:19,  3.62s/it]2021-12-02 02:28:09,395 - INFO - Going to follow `user_id` 253378176.\n"
     ]
    },
    {
     "name": "stdout",
     "output_type": "stream",
     "text": [
      "\n",
      "USER_NAME: simeonskye, FOLLOWER: 431939, FOLLOWING: 845\n",
      "\u001b[31m\n",
      "follower_count > bot.max_followers_to_follow, skipping!\u001b[0m\n",
      "\u001b[;1m\u001b[32mAdding '2478420039' to `/Users/emmanuel_bamidele/Desktop/Bamspace/Data_Science_Tutorial/Python projects/Codes/IP Address/config/skipped.txt`.\u001b[0m\u001b[0m\n"
     ]
    },
    {
     "name": "stderr",
     "output_type": "stream",
     "text": [
      "2021-12-02 02:28:14,519 - DEBUG - GET to endpoint: users/253378176/info/ returned response: <Response [200]>\n",
      "Processed users:   3%|█▍                                                   | 20/754 [01:21<49:48,  4.07s/it]2021-12-02 02:28:14,524 - INFO - Going to follow `user_id` 268567334.\n"
     ]
    },
    {
     "name": "stdout",
     "output_type": "stream",
     "text": [
      "\n",
      "USER_NAME: jahbizzle, FOLLOWER: 6977, FOLLOWING: 1092\n",
      "\u001b[31m\n",
      "info: is BUSINESS, skipping!\u001b[0m\n",
      "\u001b[;1m\u001b[32mAdding '253378176' to `/Users/emmanuel_bamidele/Desktop/Bamspace/Data_Science_Tutorial/Python projects/Codes/IP Address/config/skipped.txt`.\u001b[0m\u001b[0m\n"
     ]
    },
    {
     "name": "stderr",
     "output_type": "stream",
     "text": [
      "2021-12-02 02:28:17,392 - DEBUG - GET to endpoint: users/268567334/info/ returned response: <Response [200]>\n",
      "Processed users:   3%|█▍                                                   | 21/754 [01:24<45:20,  3.71s/it]2021-12-02 02:28:17,397 - INFO - Going to follow `user_id` 458198783.\n"
     ]
    },
    {
     "name": "stdout",
     "output_type": "stream",
     "text": [
      "\n",
      "USER_NAME: phynofino, FOLLOWER: 7305961, FOLLOWING: 805\n",
      "\u001b[31m\n",
      "info: is BUSINESS, skipping!\u001b[0m\n",
      "\u001b[;1m\u001b[32mAdding '268567334' to `/Users/emmanuel_bamidele/Desktop/Bamspace/Data_Science_Tutorial/Python projects/Codes/IP Address/config/skipped.txt`.\u001b[0m\u001b[0m\n"
     ]
    },
    {
     "name": "stderr",
     "output_type": "stream",
     "text": [
      "2021-12-02 02:28:22,188 - DEBUG - GET to endpoint: users/458198783/info/ returned response: <Response [200]>\n"
     ]
    },
    {
     "name": "stdout",
     "output_type": "stream",
     "text": [
      "\n",
      "USER_NAME: shugar_ige, FOLLOWER: 560, FOLLOWING: 560\n"
     ]
    },
    {
     "name": "stderr",
     "output_type": "stream",
     "text": [
      "2021-12-02 02:30:37,856 - DEBUG - post data: {\"user_id\": \"458198783\", \"radio_type\": \"wifi-none\", \"device_id\": \"android-d70127a7f7600032\", \"_uuid\": \"d66a35c6-3222-4ec7-81f7-5bdf7ca4a326\", \"_uid\": \"50881728146\", \"_csrftoken\": \"fmoDTrAWLylWUhkbxsGjcUW6JOuBsJdz\"}\n",
      "2021-12-02 02:30:39,926 - DEBUG - POST to endpoint: friendships/create/458198783/ returned response: <Response [200]>\n",
      "2021-12-02 02:30:39,927 - INFO - Followed `user_id` 458198783.\n",
      "Processed users:   3%|█▍                                                 | 22/754 [03:46<9:13:34, 45.37s/it]2021-12-02 02:30:39,931 - INFO - Going to follow `user_id` 455602596.\n"
     ]
    },
    {
     "name": "stdout",
     "output_type": "stream",
     "text": [
      "\u001b[;1m\u001b[32mAdding '458198783' to `/Users/emmanuel_bamidele/Desktop/Bamspace/Data_Science_Tutorial/Python projects/Codes/IP Address/config/followed.txt`.\u001b[0m\u001b[0m\n"
     ]
    },
    {
     "name": "stderr",
     "output_type": "stream",
     "text": [
      "2021-12-02 02:30:43,202 - DEBUG - GET to endpoint: users/455602596/info/ returned response: <Response [200]>\n",
      "Processed users:   3%|█▌                                                 | 23/754 [03:49<6:38:53, 32.74s/it]2021-12-02 02:30:43,204 - INFO - Going to follow `user_id` 3279093505.\n"
     ]
    },
    {
     "name": "stdout",
     "output_type": "stream",
     "text": [
      "\n",
      "USER_NAME: adeolafayehun, FOLLOWER: 336101, FOLLOWING: 387\n",
      "\u001b[31m\n",
      "info: is BUSINESS, skipping!\u001b[0m\n",
      "\u001b[;1m\u001b[32mAdding '455602596' to `/Users/emmanuel_bamidele/Desktop/Bamspace/Data_Science_Tutorial/Python projects/Codes/IP Address/config/skipped.txt`.\u001b[0m\u001b[0m\n"
     ]
    },
    {
     "name": "stderr",
     "output_type": "stream",
     "text": [
      "2021-12-02 02:30:46,766 - DEBUG - GET to endpoint: users/3279093505/info/ returned response: <Response [200]>\n",
      "Processed users:   3%|█▌                                                 | 24/754 [03:53<4:51:50, 23.99s/it]2021-12-02 02:30:46,771 - INFO - Going to follow `user_id` 35844505149.\n"
     ]
    },
    {
     "name": "stdout",
     "output_type": "stream",
     "text": [
      "\n",
      "USER_NAME: iamkelvinboj, FOLLOWER: 75940, FOLLOWING: 2134\n",
      "\u001b[31m\n",
      "info: is VERIFIED, skipping !\u001b[0m\n",
      "\u001b[;1m\u001b[32mAdding '3279093505' to `/Users/emmanuel_bamidele/Desktop/Bamspace/Data_Science_Tutorial/Python projects/Codes/IP Address/config/skipped.txt`.\u001b[0m\u001b[0m\n"
     ]
    },
    {
     "name": "stderr",
     "output_type": "stream",
     "text": [
      "2021-12-02 02:30:52,497 - DEBUG - GET to endpoint: users/35844505149/info/ returned response: <Response [200]>\n",
      "Processed users:   3%|█▋                                                 | 25/754 [03:59<3:44:53, 18.51s/it]2021-12-02 02:30:52,503 - INFO - Going to follow `user_id` 204851731.\n"
     ]
    },
    {
     "name": "stdout",
     "output_type": "stream",
     "text": [
      "\n",
      "USER_NAME: callmiwhizzy_, FOLLOWER: 460469, FOLLOWING: 1105\n",
      "\u001b[31m\n",
      "info: is BUSINESS, skipping!\u001b[0m\n",
      "\u001b[;1m\u001b[32mAdding '35844505149' to `/Users/emmanuel_bamidele/Desktop/Bamspace/Data_Science_Tutorial/Python projects/Codes/IP Address/config/skipped.txt`.\u001b[0m\u001b[0m\n"
     ]
    },
    {
     "name": "stderr",
     "output_type": "stream",
     "text": [
      "2021-12-02 02:30:55,287 - DEBUG - GET to endpoint: users/204851731/info/ returned response: <Response [200]>\n",
      "Processed users:   3%|█▊                                                 | 26/754 [04:02<2:47:21, 13.79s/it]2021-12-02 02:30:55,292 - INFO - Going to follow `user_id` 682030687.\n"
     ]
    },
    {
     "name": "stdout",
     "output_type": "stream",
     "text": [
      "\n",
      "USER_NAME: sheymanmusic, FOLLOWER: 88366, FOLLOWING: 2402\n",
      "\u001b[31m\n",
      "info: is VERIFIED, skipping !\u001b[0m\n",
      "\u001b[;1m\u001b[32mAdding '204851731' to `/Users/emmanuel_bamidele/Desktop/Bamspace/Data_Science_Tutorial/Python projects/Codes/IP Address/config/skipped.txt`.\u001b[0m\u001b[0m\n"
     ]
    },
    {
     "name": "stderr",
     "output_type": "stream",
     "text": [
      "2021-12-02 02:30:58,459 - DEBUG - GET to endpoint: users/682030687/info/ returned response: <Response [200]>\n",
      "Processed users:   4%|█▊                                                 | 27/754 [04:05<2:08:30, 10.61s/it]2021-12-02 02:30:58,464 - INFO - Going to follow `user_id` 1978961446.\n"
     ]
    },
    {
     "name": "stdout",
     "output_type": "stream",
     "text": [
      "\n",
      "USER_NAME: sydneytalker, FOLLOWER: 3284360, FOLLOWING: 1109\n",
      "\u001b[31m\n",
      "info: is VERIFIED, skipping !\u001b[0m\n",
      "\u001b[;1m\u001b[32mAdding '682030687' to `/Users/emmanuel_bamidele/Desktop/Bamspace/Data_Science_Tutorial/Python projects/Codes/IP Address/config/skipped.txt`.\u001b[0m\u001b[0m\n"
     ]
    },
    {
     "name": "stderr",
     "output_type": "stream",
     "text": [
      "2021-12-02 02:31:02,331 - DEBUG - GET to endpoint: users/1978961446/info/ returned response: <Response [200]>\n",
      "Processed users:   4%|█▉                                                 | 28/754 [04:09<1:43:53,  8.59s/it]2021-12-02 02:31:02,336 - INFO - Going to follow `user_id` 313570893.\n"
     ]
    },
    {
     "name": "stdout",
     "output_type": "stream",
     "text": [
      "\n",
      "USER_NAME: itslaycon, FOLLOWER: 3594182, FOLLOWING: 868\n",
      "\u001b[31m\n",
      "info: is VERIFIED, skipping !\u001b[0m\n",
      "\u001b[;1m\u001b[32mAdding '1978961446' to `/Users/emmanuel_bamidele/Desktop/Bamspace/Data_Science_Tutorial/Python projects/Codes/IP Address/config/skipped.txt`.\u001b[0m\u001b[0m\n"
     ]
    },
    {
     "name": "stderr",
     "output_type": "stream",
     "text": [
      "2021-12-02 02:31:06,299 - DEBUG - GET to endpoint: users/313570893/info/ returned response: <Response [200]>\n",
      "Processed users:   4%|█▉                                                 | 29/754 [04:13<1:27:00,  7.20s/it]2021-12-02 02:31:06,303 - INFO - Going to follow `user_id` 1739823307.\n"
     ]
    },
    {
     "name": "stdout",
     "output_type": "stream",
     "text": [
      "\n",
      "USER_NAME: domingo_loso, FOLLOWER: 12383, FOLLOWING: 970\n",
      "\u001b[31m\n",
      "follower_count > bot.max_followers_to_follow, skipping!\u001b[0m\n",
      "\u001b[;1m\u001b[32mAdding '313570893' to `/Users/emmanuel_bamidele/Desktop/Bamspace/Data_Science_Tutorial/Python projects/Codes/IP Address/config/skipped.txt`.\u001b[0m\u001b[0m\n"
     ]
    },
    {
     "name": "stderr",
     "output_type": "stream",
     "text": [
      "2021-12-02 02:31:10,722 - DEBUG - GET to endpoint: users/1739823307/info/ returned response: <Response [200]>\n",
      "Processed users:   4%|██                                                 | 30/754 [04:17<1:16:50,  6.37s/it]2021-12-02 02:31:10,727 - INFO - Going to follow `user_id` 30814742.\n"
     ]
    },
    {
     "name": "stdout",
     "output_type": "stream",
     "text": [
      "\n",
      "USER_NAME: agu_the_lion, FOLLOWER: 7748, FOLLOWING: 1176\n",
      "\u001b[31m\n",
      "follower_count > bot.max_followers_to_follow, skipping!\u001b[0m\n",
      "\u001b[;1m\u001b[32mAdding '1739823307' to `/Users/emmanuel_bamidele/Desktop/Bamspace/Data_Science_Tutorial/Python projects/Codes/IP Address/config/skipped.txt`.\u001b[0m\u001b[0m\n"
     ]
    },
    {
     "name": "stderr",
     "output_type": "stream",
     "text": [
      "2021-12-02 02:31:14,345 - DEBUG - GET to endpoint: users/30814742/info/ returned response: <Response [200]>\n",
      "Processed users:   4%|██                                                 | 31/754 [04:21<1:06:48,  5.54s/it]2021-12-02 02:31:14,350 - INFO - Going to follow `user_id` 1157216478.\n"
     ]
    },
    {
     "name": "stdout",
     "output_type": "stream",
     "text": [
      "\n",
      "USER_NAME: menace30bg, FOLLOWER: 36041, FOLLOWING: 3090\n",
      "\u001b[31m\n",
      "follower_count > bot.max_followers_to_follow, skipping!\u001b[0m\n",
      "\u001b[;1m\u001b[32mAdding '30814742' to `/Users/emmanuel_bamidele/Desktop/Bamspace/Data_Science_Tutorial/Python projects/Codes/IP Address/config/skipped.txt`.\u001b[0m\u001b[0m\n"
     ]
    },
    {
     "name": "stderr",
     "output_type": "stream",
     "text": [
      "2021-12-02 02:31:20,262 - DEBUG - GET to endpoint: users/1157216478/info/ returned response: <Response [200]>\n",
      "Processed users:   4%|██▏                                                | 32/754 [04:27<1:08:03,  5.66s/it]2021-12-02 02:31:20,267 - INFO - Going to follow `user_id` 1216056192.\n"
     ]
    },
    {
     "name": "stdout",
     "output_type": "stream",
     "text": [
      "\n",
      "USER_NAME: djstramborella, FOLLOWER: 12568, FOLLOWING: 2651\n",
      "\u001b[31m\n",
      "info: is BUSINESS, skipping!\u001b[0m\n",
      "\u001b[;1m\u001b[32mAdding '1157216478' to `/Users/emmanuel_bamidele/Desktop/Bamspace/Data_Science_Tutorial/Python projects/Codes/IP Address/config/skipped.txt`.\u001b[0m\u001b[0m\n"
     ]
    },
    {
     "name": "stderr",
     "output_type": "stream",
     "text": [
      "2021-12-02 02:31:23,039 - DEBUG - GET to endpoint: users/1216056192/info/ returned response: <Response [200]>\n",
      "Processed users:   4%|██▎                                                  | 33/754 [04:29<57:35,  4.79s/it]2021-12-02 02:31:23,044 - INFO - Going to follow `user_id` 385644230.\n"
     ]
    },
    {
     "name": "stdout",
     "output_type": "stream",
     "text": [
      "\n",
      "USER_NAME: donlulu_mayor, FOLLOWER: 43671, FOLLOWING: 597\n",
      "\u001b[31m\n",
      "info: is VERIFIED, skipping !\u001b[0m\n",
      "\u001b[;1m\u001b[32mAdding '1216056192' to `/Users/emmanuel_bamidele/Desktop/Bamspace/Data_Science_Tutorial/Python projects/Codes/IP Address/config/skipped.txt`.\u001b[0m\u001b[0m\n"
     ]
    },
    {
     "name": "stderr",
     "output_type": "stream",
     "text": [
      "2021-12-02 02:31:25,411 - DEBUG - GET to endpoint: users/385644230/info/ returned response: <Response [200]>\n",
      "Processed users:   5%|██▍                                                  | 34/754 [04:32<48:47,  4.07s/it]2021-12-02 02:31:25,416 - INFO - Going to follow `user_id` 1126715794.\n"
     ]
    },
    {
     "name": "stdout",
     "output_type": "stream",
     "text": [
      "\n",
      "USER_NAME: 2niteflavour, FOLLOWER: 4723720, FOLLOWING: 405\n",
      "\u001b[31m\n",
      "info: is VERIFIED, skipping !\u001b[0m\n",
      "\u001b[;1m\u001b[32mAdding '385644230' to `/Users/emmanuel_bamidele/Desktop/Bamspace/Data_Science_Tutorial/Python projects/Codes/IP Address/config/skipped.txt`.\u001b[0m\u001b[0m\n"
     ]
    },
    {
     "name": "stderr",
     "output_type": "stream",
     "text": [
      "2021-12-02 02:31:30,082 - DEBUG - GET to endpoint: users/1126715794/info/ returned response: <Response [200]>\n",
      "Processed users:   5%|██▍                                                  | 35/754 [04:36<50:53,  4.25s/it]2021-12-02 02:31:30,086 - INFO - Going to follow `user_id` 18973004054.\n"
     ]
    },
    {
     "name": "stdout",
     "output_type": "stream",
     "text": [
      "\n",
      "USER_NAME: iamwoleoni, FOLLOWER: 75055, FOLLOWING: 1111\n",
      "\u001b[31m\n",
      "info: is VERIFIED, skipping !\u001b[0m\n",
      "\u001b[;1m\u001b[32mAdding '1126715794' to `/Users/emmanuel_bamidele/Desktop/Bamspace/Data_Science_Tutorial/Python projects/Codes/IP Address/config/skipped.txt`.\u001b[0m\u001b[0m\n"
     ]
    },
    {
     "name": "stderr",
     "output_type": "stream",
     "text": [
      "2021-12-02 02:31:33,868 - DEBUG - GET to endpoint: users/18973004054/info/ returned response: <Response [200]>\n",
      "Processed users:   5%|██▌                                                  | 36/754 [04:40<49:10,  4.11s/it]2021-12-02 02:31:33,872 - INFO - Going to follow `user_id` 1293446278.\n"
     ]
    },
    {
     "name": "stdout",
     "output_type": "stream",
     "text": [
      "\n",
      "USER_NAME: rarebreed.xo, FOLLOWER: 11535, FOLLOWING: 114\n",
      "\u001b[31m\n",
      "follower_count > bot.max_followers_to_follow, skipping!\u001b[0m\n",
      "\u001b[;1m\u001b[32mAdding '18973004054' to `/Users/emmanuel_bamidele/Desktop/Bamspace/Data_Science_Tutorial/Python projects/Codes/IP Address/config/skipped.txt`.\u001b[0m\u001b[0m\n"
     ]
    },
    {
     "name": "stderr",
     "output_type": "stream",
     "text": [
      "2021-12-02 02:31:37,886 - DEBUG - GET to endpoint: users/1293446278/info/ returned response: <Response [200]>\n",
      "Processed users:   5%|██▌                                                  | 37/754 [04:44<48:46,  4.08s/it]2021-12-02 02:31:37,891 - INFO - Going to follow `user_id` 9430624407.\n"
     ]
    },
    {
     "name": "stdout",
     "output_type": "stream",
     "text": [
      "\n",
      "USER_NAME: augustudoh, FOLLOWER: 22916, FOLLOWING: 7496\n",
      "\u001b[31m\n",
      "info: is BUSINESS, skipping!\u001b[0m\n",
      "\u001b[;1m\u001b[32mAdding '1293446278' to `/Users/emmanuel_bamidele/Desktop/Bamspace/Data_Science_Tutorial/Python projects/Codes/IP Address/config/skipped.txt`.\u001b[0m\u001b[0m\n"
     ]
    },
    {
     "name": "stderr",
     "output_type": "stream",
     "text": [
      "2021-12-02 02:31:43,597 - DEBUG - GET to endpoint: users/9430624407/info/ returned response: <Response [200]>\n",
      "Processed users:   5%|██▋                                                  | 38/754 [04:50<54:32,  4.57s/it]2021-12-02 02:31:43,601 - INFO - Going to follow `user_id` 45012669388.\n"
     ]
    },
    {
     "name": "stdout",
     "output_type": "stream",
     "text": [
      "\n",
      "USER_NAME: insidelife411, FOLLOWER: 349560, FOLLOWING: 991\n",
      "\u001b[31m\n",
      "info: is BUSINESS, skipping!\u001b[0m\n",
      "\u001b[;1m\u001b[32mAdding '9430624407' to `/Users/emmanuel_bamidele/Desktop/Bamspace/Data_Science_Tutorial/Python projects/Codes/IP Address/config/skipped.txt`.\u001b[0m\u001b[0m\n"
     ]
    },
    {
     "name": "stderr",
     "output_type": "stream",
     "text": [
      "2021-12-02 02:31:48,488 - DEBUG - GET to endpoint: users/45012669388/info/ returned response: <Response [200]>\n",
      "Processed users:   5%|██▋                                                  | 39/754 [04:55<55:36,  4.67s/it]2021-12-02 02:31:48,492 - INFO - Going to follow `user_id` 1655392308.\n"
     ]
    },
    {
     "name": "stdout",
     "output_type": "stream",
     "text": [
      "\n",
      "USER_NAME: chris_lawrence001, FOLLOWER: 60641, FOLLOWING: 743\n",
      "\u001b[31m\n",
      "info: is BUSINESS, skipping!\u001b[0m\n",
      "\u001b[;1m\u001b[32mAdding '45012669388' to `/Users/emmanuel_bamidele/Desktop/Bamspace/Data_Science_Tutorial/Python projects/Codes/IP Address/config/skipped.txt`.\u001b[0m\u001b[0m\n"
     ]
    },
    {
     "name": "stderr",
     "output_type": "stream",
     "text": [
      "2021-12-02 02:31:52,097 - DEBUG - GET to endpoint: users/1655392308/info/ returned response: <Response [200]>\n",
      "Processed users:   5%|██▊                                                  | 40/754 [04:58<51:45,  4.35s/it]2021-12-02 02:31:52,102 - INFO - Going to follow `user_id` 1946265120.\n"
     ]
    },
    {
     "name": "stdout",
     "output_type": "stream",
     "text": [
      "\n",
      "USER_NAME: hillmakayamodel, FOLLOWER: 88411, FOLLOWING: 14\n",
      "\u001b[31m\n",
      "follower_count > bot.max_followers_to_follow, skipping!\u001b[0m\n",
      "\u001b[;1m\u001b[32mAdding '1655392308' to `/Users/emmanuel_bamidele/Desktop/Bamspace/Data_Science_Tutorial/Python projects/Codes/IP Address/config/skipped.txt`.\u001b[0m\u001b[0m\n"
     ]
    },
    {
     "name": "stderr",
     "output_type": "stream",
     "text": [
      "2021-12-02 02:31:57,843 - DEBUG - GET to endpoint: users/1946265120/info/ returned response: <Response [200]>\n",
      "Processed users:   5%|██▉                                                  | 41/754 [05:04<56:39,  4.77s/it]2021-12-02 02:31:57,847 - INFO - Going to follow `user_id` 330867070.\n"
     ]
    },
    {
     "name": "stdout",
     "output_type": "stream",
     "text": [
      "\n",
      "USER_NAME: katherine.xo_xo, FOLLOWER: 6508, FOLLOWING: 259\n",
      "\u001b[31m\n",
      "follower_count > bot.max_followers_to_follow, skipping!\u001b[0m\n",
      "\u001b[;1m\u001b[32mAdding '1946265120' to `/Users/emmanuel_bamidele/Desktop/Bamspace/Data_Science_Tutorial/Python projects/Codes/IP Address/config/skipped.txt`.\u001b[0m\u001b[0m\n"
     ]
    },
    {
     "name": "stderr",
     "output_type": "stream",
     "text": [
      "2021-12-02 02:32:01,560 - DEBUG - GET to endpoint: users/330867070/info/ returned response: <Response [200]>\n",
      "Processed users:   6%|██▉                                                  | 42/754 [05:08<52:50,  4.45s/it]2021-12-02 02:32:01,565 - INFO - Going to follow `user_id` 45361363122.\n"
     ]
    },
    {
     "name": "stdout",
     "output_type": "stream",
     "text": [
      "\n",
      "USER_NAME: reginaaskia, FOLLOWER: 146550, FOLLOWING: 499\n",
      "\u001b[31m\n",
      "info: is VERIFIED, skipping !\u001b[0m\n",
      "\u001b[;1m\u001b[32mAdding '330867070' to `/Users/emmanuel_bamidele/Desktop/Bamspace/Data_Science_Tutorial/Python projects/Codes/IP Address/config/skipped.txt`.\u001b[0m\u001b[0m\n"
     ]
    },
    {
     "name": "stderr",
     "output_type": "stream",
     "text": [
      "2021-12-02 02:32:05,229 - DEBUG - GET to endpoint: users/45361363122/info/ returned response: <Response [200]>\n",
      "Processed users:   6%|███                                                  | 43/754 [05:12<49:58,  4.22s/it]2021-12-02 02:32:05,234 - INFO - Going to follow `user_id` 4259039362.\n"
     ]
    },
    {
     "name": "stdout",
     "output_type": "stream",
     "text": [
      "\n",
      "USER_NAME: official_aproko, FOLLOWER: 109269, FOLLOWING: 1771\n",
      "\u001b[31m\n",
      "follower_count > bot.max_followers_to_follow, skipping!\u001b[0m\n",
      "\u001b[;1m\u001b[32mAdding '45361363122' to `/Users/emmanuel_bamidele/Desktop/Bamspace/Data_Science_Tutorial/Python projects/Codes/IP Address/config/skipped.txt`.\u001b[0m\u001b[0m\n"
     ]
    },
    {
     "name": "stderr",
     "output_type": "stream",
     "text": [
      "2021-12-02 02:32:09,324 - DEBUG - GET to endpoint: users/4259039362/info/ returned response: <Response [200]>\n",
      "Processed users:   6%|███                                                  | 44/754 [05:16<49:28,  4.18s/it]2021-12-02 02:32:09,328 - INFO - Going to follow `user_id` 245860518.\n"
     ]
    },
    {
     "name": "stdout",
     "output_type": "stream",
     "text": [
      "\n",
      "USER_NAME: _zeeney_xo, FOLLOWER: 46875, FOLLOWING: 2049\n",
      "\u001b[31m\n",
      "follower_count > bot.max_followers_to_follow, skipping!\u001b[0m\n",
      "\u001b[;1m\u001b[32mAdding '4259039362' to `/Users/emmanuel_bamidele/Desktop/Bamspace/Data_Science_Tutorial/Python projects/Codes/IP Address/config/skipped.txt`.\u001b[0m\u001b[0m\n"
     ]
    },
    {
     "name": "stderr",
     "output_type": "stream",
     "text": [
      "2021-12-02 02:32:14,317 - DEBUG - GET to endpoint: users/245860518/info/ returned response: <Response [200]>\n",
      "Processed users:   6%|███▏                                                 | 45/754 [05:21<52:16,  4.42s/it]2021-12-02 02:32:14,321 - INFO - Going to follow `user_id` 235849398.\n"
     ]
    },
    {
     "name": "stdout",
     "output_type": "stream",
     "text": [
      "\n",
      "USER_NAME: josseyofficial, FOLLOWER: 32847, FOLLOWING: 1400\n",
      "\u001b[31m\n",
      "follower_count > bot.max_followers_to_follow, skipping!\u001b[0m\n",
      "\u001b[;1m\u001b[32mAdding '245860518' to `/Users/emmanuel_bamidele/Desktop/Bamspace/Data_Science_Tutorial/Python projects/Codes/IP Address/config/skipped.txt`.\u001b[0m\u001b[0m\n"
     ]
    },
    {
     "name": "stderr",
     "output_type": "stream",
     "text": [
      "2021-12-02 02:32:19,916 - DEBUG - GET to endpoint: users/235849398/info/ returned response: <Response [200]>\n",
      "Processed users:   6%|███▏                                                 | 46/754 [05:26<56:21,  4.78s/it]2021-12-02 02:32:19,918 - INFO - Going to follow `user_id` 39896678.\n"
     ]
    },
    {
     "name": "stdout",
     "output_type": "stream",
     "text": [
      "\n",
      "USER_NAME: daddyfreeze, FOLLOWER: 749551, FOLLOWING: 6101\n",
      "\u001b[31m\n",
      "info: is VERIFIED, skipping !\u001b[0m\n",
      "\u001b[;1m\u001b[32mAdding '235849398' to `/Users/emmanuel_bamidele/Desktop/Bamspace/Data_Science_Tutorial/Python projects/Codes/IP Address/config/skipped.txt`.\u001b[0m\u001b[0m\n"
     ]
    },
    {
     "name": "stderr",
     "output_type": "stream",
     "text": [
      "2021-12-02 02:32:25,738 - DEBUG - GET to endpoint: users/39896678/info/ returned response: <Response [200]>\n",
      "Processed users:   6%|███▎                                                 | 47/754 [05:32<59:58,  5.09s/it]2021-12-02 02:32:25,742 - INFO - Going to follow `user_id` 417658524.\n"
     ]
    },
    {
     "name": "stdout",
     "output_type": "stream",
     "text": [
      "\n",
      "USER_NAME: tufab, FOLLOWER: 64130, FOLLOWING: 1673\n",
      "\u001b[31m\n",
      "follower_count > bot.max_followers_to_follow, skipping!\u001b[0m\n",
      "\u001b[;1m\u001b[32mAdding '39896678' to `/Users/emmanuel_bamidele/Desktop/Bamspace/Data_Science_Tutorial/Python projects/Codes/IP Address/config/skipped.txt`.\u001b[0m\u001b[0m\n"
     ]
    },
    {
     "name": "stderr",
     "output_type": "stream",
     "text": [
      "2021-12-02 02:32:28,984 - DEBUG - GET to endpoint: users/417658524/info/ returned response: <Response [200]>\n",
      "Processed users:   6%|███▎                                                 | 48/754 [05:35<53:23,  4.54s/it]2021-12-02 02:32:28,988 - INFO - Going to follow `user_id` 370601095.\n"
     ]
    },
    {
     "name": "stdout",
     "output_type": "stream",
     "text": [
      "\n",
      "USER_NAME: kingg.sho, FOLLOWER: 8628, FOLLOWING: 3098\n",
      "\u001b[31m\n",
      "follower_count > bot.max_followers_to_follow, skipping!\u001b[0m\n",
      "\u001b[;1m\u001b[32mAdding '417658524' to `/Users/emmanuel_bamidele/Desktop/Bamspace/Data_Science_Tutorial/Python projects/Codes/IP Address/config/skipped.txt`.\u001b[0m\u001b[0m\n"
     ]
    },
    {
     "name": "stderr",
     "output_type": "stream",
     "text": [
      "2021-12-02 02:32:32,788 - DEBUG - GET to endpoint: users/370601095/info/ returned response: <Response [200]>\n"
     ]
    },
    {
     "name": "stdout",
     "output_type": "stream",
     "text": [
      "\n",
      "USER_NAME: christopherkking, FOLLOWER: 1745, FOLLOWING: 613\n"
     ]
    },
    {
     "name": "stderr",
     "output_type": "stream",
     "text": [
      "2021-12-02 02:35:44,592 - DEBUG - post data: {\"user_id\": \"370601095\", \"radio_type\": \"wifi-none\", \"device_id\": \"android-d70127a7f7600032\", \"_uuid\": \"d66a35c6-3222-4ec7-81f7-5bdf7ca4a326\", \"_uid\": \"50881728146\", \"_csrftoken\": \"fmoDTrAWLylWUhkbxsGjcUW6JOuBsJdz\"}\n",
      "2021-12-02 02:35:47,481 - DEBUG - POST to endpoint: friendships/create/370601095/ returned response: <Response [200]>\n",
      "2021-12-02 02:35:47,483 - INFO - Followed `user_id` 370601095.\n",
      "Processed users:   6%|███▏                                              | 49/754 [08:54<12:17:01, 62.73s/it]2021-12-02 02:35:47,486 - INFO - Going to follow `user_id` 38348277322.\n"
     ]
    },
    {
     "name": "stdout",
     "output_type": "stream",
     "text": [
      "\u001b[;1m\u001b[32mAdding '370601095' to `/Users/emmanuel_bamidele/Desktop/Bamspace/Data_Science_Tutorial/Python projects/Codes/IP Address/config/followed.txt`.\u001b[0m\u001b[0m\n"
     ]
    },
    {
     "name": "stderr",
     "output_type": "stream",
     "text": [
      "2021-12-02 02:35:50,064 - DEBUG - GET to endpoint: users/38348277322/info/ returned response: <Response [200]>\n",
      "Processed users:   7%|███▍                                               | 50/754 [08:56<8:44:16, 44.68s/it]2021-12-02 02:35:50,067 - INFO - Going to follow `user_id` 2201357802.\n"
     ]
    },
    {
     "name": "stdout",
     "output_type": "stream",
     "text": [
      "\n",
      "USER_NAME: nuwatekatekajenet, FOLLOWER: 4895, FOLLOWING: 162\n",
      "\u001b[31m\n",
      "follower_count / following_count > bot.max_followers_to_following_ratio, skipping!\u001b[0m\n",
      "\u001b[;1m\u001b[32mAdding '38348277322' to `/Users/emmanuel_bamidele/Desktop/Bamspace/Data_Science_Tutorial/Python projects/Codes/IP Address/config/skipped.txt`.\u001b[0m\u001b[0m\n"
     ]
    },
    {
     "name": "stderr",
     "output_type": "stream",
     "text": [
      "2021-12-02 02:35:53,690 - DEBUG - GET to endpoint: users/2201357802/info/ returned response: <Response [200]>\n",
      "Processed users:   7%|███▍                                               | 51/754 [09:00<6:19:13, 32.37s/it]2021-12-02 02:35:53,694 - INFO - Going to follow `user_id` 190996345.\n"
     ]
    },
    {
     "name": "stdout",
     "output_type": "stream",
     "text": [
      "\n",
      "USER_NAME: bellokreb, FOLLOWER: 345642, FOLLOWING: 693\n",
      "\u001b[31m\n",
      "info: is BUSINESS, skipping!\u001b[0m\n",
      "\u001b[;1m\u001b[32mAdding '2201357802' to `/Users/emmanuel_bamidele/Desktop/Bamspace/Data_Science_Tutorial/Python projects/Codes/IP Address/config/skipped.txt`.\u001b[0m\u001b[0m\n"
     ]
    },
    {
     "name": "stderr",
     "output_type": "stream",
     "text": [
      "2021-12-02 02:35:56,106 - DEBUG - GET to endpoint: users/190996345/info/ returned response: <Response [200]>\n",
      "Processed users:   7%|███▌                                               | 52/754 [09:02<4:33:33, 23.38s/it]2021-12-02 02:35:56,110 - INFO - Going to follow `user_id` 250713288.\n"
     ]
    },
    {
     "name": "stdout",
     "output_type": "stream",
     "text": [
      "\n",
      "USER_NAME: iamadunniade, FOLLOWER: 2595524, FOLLOWING: 885\n",
      "\u001b[31m\n",
      "info: is VERIFIED, skipping !\u001b[0m\n",
      "\u001b[;1m\u001b[32mAdding '190996345' to `/Users/emmanuel_bamidele/Desktop/Bamspace/Data_Science_Tutorial/Python projects/Codes/IP Address/config/skipped.txt`.\u001b[0m\u001b[0m\n"
     ]
    },
    {
     "name": "stderr",
     "output_type": "stream",
     "text": [
      "2021-12-02 02:35:58,545 - DEBUG - GET to endpoint: users/250713288/info/ returned response: <Response [200]>\n"
     ]
    },
    {
     "name": "stdout",
     "output_type": "stream",
     "text": [
      "\n",
      "USER_NAME: madeinseconds, FOLLOWER: 4300, FOLLOWING: 1124\n"
     ]
    },
    {
     "name": "stderr",
     "output_type": "stream",
     "text": [
      "2021-12-02 02:41:39,341 - DEBUG - post data: {\"user_id\": \"250713288\", \"radio_type\": \"wifi-none\", \"device_id\": \"android-d70127a7f7600032\", \"_uuid\": \"d66a35c6-3222-4ec7-81f7-5bdf7ca4a326\", \"_uid\": \"50881728146\", \"_csrftoken\": \"fmoDTrAWLylWUhkbxsGjcUW6JOuBsJdz\"}\n",
      "2021-12-02 02:41:41,275 - DEBUG - POST to endpoint: friendships/create/250713288/ returned response: <Response [200]>\n",
      "2021-12-02 02:41:41,277 - INFO - Followed `user_id` 250713288.\n",
      "Processed users:   7%|███▍                                             | 53/754 [14:48<23:21:02, 119.92s/it]2021-12-02 02:41:41,281 - INFO - Going to follow `user_id` 904900231.\n"
     ]
    },
    {
     "name": "stdout",
     "output_type": "stream",
     "text": [
      "\u001b[;1m\u001b[32mAdding '250713288' to `/Users/emmanuel_bamidele/Desktop/Bamspace/Data_Science_Tutorial/Python projects/Codes/IP Address/config/followed.txt`.\u001b[0m\u001b[0m\n"
     ]
    },
    {
     "name": "stderr",
     "output_type": "stream",
     "text": [
      "2021-12-02 02:41:45,186 - DEBUG - GET to endpoint: users/904900231/info/ returned response: <Response [200]>\n",
      "Processed users:   7%|███▌                                              | 54/754 [14:51<16:33:00, 85.12s/it]2021-12-02 02:41:45,191 - INFO - Going to follow `user_id` 1417400419.\n"
     ]
    },
    {
     "name": "stdout",
     "output_type": "stream",
     "text": [
      "\n",
      "USER_NAME: pankeeroy, FOLLOWER: 987180, FOLLOWING: 1918\n",
      "\u001b[31m\n",
      "info: is VERIFIED, skipping !\u001b[0m\n",
      "\u001b[;1m\u001b[32mAdding '904900231' to `/Users/emmanuel_bamidele/Desktop/Bamspace/Data_Science_Tutorial/Python projects/Codes/IP Address/config/skipped.txt`.\u001b[0m\u001b[0m\n"
     ]
    },
    {
     "name": "stderr",
     "output_type": "stream",
     "text": [
      "2021-12-02 02:41:49,675 - DEBUG - GET to endpoint: users/1417400419/info/ returned response: <Response [200]>\n",
      "Processed users:   7%|███▋                                              | 55/754 [14:56<11:49:48, 60.93s/it]2021-12-02 02:41:49,680 - INFO - Going to follow `user_id` 312129700.\n"
     ]
    },
    {
     "name": "stdout",
     "output_type": "stream",
     "text": [
      "\n",
      "USER_NAME: lord_of_manor, FOLLOWER: 9054, FOLLOWING: 819\n",
      "\u001b[31m\n",
      "follower_count > bot.max_followers_to_follow, skipping!\u001b[0m\n",
      "\u001b[;1m\u001b[32mAdding '1417400419' to `/Users/emmanuel_bamidele/Desktop/Bamspace/Data_Science_Tutorial/Python projects/Codes/IP Address/config/skipped.txt`.\u001b[0m\u001b[0m\n"
     ]
    },
    {
     "name": "stderr",
     "output_type": "stream",
     "text": [
      "2021-12-02 02:41:54,996 - DEBUG - GET to endpoint: users/312129700/info/ returned response: <Response [200]>\n",
      "Processed users:   7%|███▊                                               | 56/754 [15:01<8:34:43, 44.25s/it]2021-12-02 02:41:55,001 - INFO - Going to follow `user_id` 1387773166.\n"
     ]
    },
    {
     "name": "stdout",
     "output_type": "stream",
     "text": [
      "\n",
      "USER_NAME: tayofaniran, FOLLOWER: 113727, FOLLOWING: 5313\n",
      "\u001b[31m\n",
      "info: is VERIFIED, skipping !\u001b[0m\n",
      "\u001b[;1m\u001b[32mAdding '312129700' to `/Users/emmanuel_bamidele/Desktop/Bamspace/Data_Science_Tutorial/Python projects/Codes/IP Address/config/skipped.txt`.\u001b[0m\u001b[0m\n"
     ]
    },
    {
     "name": "stderr",
     "output_type": "stream",
     "text": [
      "2021-12-02 02:41:58,191 - DEBUG - GET to endpoint: users/1387773166/info/ returned response: <Response [200]>\n",
      "Processed users:   8%|███▊                                               | 57/754 [15:04<6:10:55, 31.93s/it]2021-12-02 02:41:58,195 - INFO - Going to follow `user_id` 31640980.\n"
     ]
    },
    {
     "name": "stdout",
     "output_type": "stream",
     "text": [
      "\n",
      "USER_NAME: officialpasuma, FOLLOWER: 693323, FOLLOWING: 2549\n",
      "\u001b[31m\n",
      "info: is BUSINESS, skipping!\u001b[0m\n",
      "\u001b[;1m\u001b[32mAdding '1387773166' to `/Users/emmanuel_bamidele/Desktop/Bamspace/Data_Science_Tutorial/Python projects/Codes/IP Address/config/skipped.txt`.\u001b[0m\u001b[0m\n"
     ]
    },
    {
     "name": "stderr",
     "output_type": "stream",
     "text": [
      "2021-12-02 02:42:04,212 - DEBUG - GET to endpoint: users/31640980/info/ returned response: <Response [200]>\n",
      "Processed users:   8%|███▉                                               | 58/754 [15:10<4:40:13, 24.16s/it]2021-12-02 02:42:04,217 - INFO - Going to follow `user_id` 4069452330.\n"
     ]
    },
    {
     "name": "stdout",
     "output_type": "stream",
     "text": [
      "\n",
      "USER_NAME: imported_chocolate, FOLLOWER: 203314, FOLLOWING: 768\n",
      "\u001b[31m\n",
      "follower_count > bot.max_followers_to_follow, skipping!\u001b[0m\n",
      "\u001b[;1m\u001b[32mAdding '31640980' to `/Users/emmanuel_bamidele/Desktop/Bamspace/Data_Science_Tutorial/Python projects/Codes/IP Address/config/skipped.txt`.\u001b[0m\u001b[0m\n"
     ]
    },
    {
     "name": "stderr",
     "output_type": "stream",
     "text": [
      "2021-12-02 02:42:09,722 - DEBUG - GET to endpoint: users/4069452330/info/ returned response: <Response [200]>\n"
     ]
    },
    {
     "name": "stdout",
     "output_type": "stream",
     "text": [
      "\n",
      "USER_NAME: akinnifesi.a, FOLLOWER: 887, FOLLOWING: 1147\n"
     ]
    }
   ],
   "source": [
    "import os\n",
    "import glob\n",
    "import time\n",
    "cookie_del = glob.glob(\"config/*cookie.json\")\n",
    "if cookie_del : os.remove(cookie_del[0])\n",
    "import sys\n",
    "from instabot import Bot\n",
    "from tkinter import *\n",
    "from tkinter import filedialog\n",
    "from tkinter.filedialog import askopenfilename\n",
    "\n",
    "\n",
    "def upload_photo():\n",
    "    cookie_del = glob.glob(\"config/*cookie.json\")\n",
    "    if cookie_del : os.remove(cookie_del[0])\n",
    "        \n",
    "    us = str(username.get())\n",
    "    usp = str(Password.get())\n",
    "    message = str(caption.get(\"1.0\", \"end-1c\"))\n",
    "    sys.path.append(os.path.join(sys.path[0], \"../\"))\n",
    "    \n",
    "    bot = Bot()\n",
    "    time.sleep(5)\n",
    "    bot.login(username= us, password = usp)\n",
    "    bot.upload_photo(photo, caption = message)\n",
    "    \n",
    "    return\n",
    "\n",
    "def unfollow_nonfollowers():\n",
    "    cookie_del = glob.glob(\"config/*cookie.json\")\n",
    "    if cookie_del : os.remove(cookie_del[0])\n",
    "        \n",
    "    us = str(username.get())\n",
    "    usp = str(Password.get())\n",
    "    sys.path.append(os.path.join(sys.path[0], \"../\"))\n",
    "    \n",
    "    bot = Bot()\n",
    "    time.sleep(5)\n",
    "    bot.login(username= us, password = usp)\n",
    "    bot.unfollow_non_followers()\n",
    "    \n",
    "    return\n",
    "\n",
    "def post_story():\n",
    "    \n",
    "    cookie_del = glob.glob(\"config/*cookie.json\")\n",
    "    if cookie_del : os.remove(cookie_del[0])\n",
    "            \n",
    "    us = str(username.get())\n",
    "    usp = str(Password.get())\n",
    "    sys.path.append(os.path.join(sys.path[0], \"../\"))\n",
    "    \n",
    "    bot = Bot()\n",
    "    time.sleep(5)\n",
    "    bot.login(username= us, password = usp)\n",
    "    bot.upload_story_photo(photo)\n",
    "    \n",
    "    return\n",
    "\n",
    "def follow_user_followers():\n",
    "    cookie_del = glob.glob(\"config/*cookie.json\")\n",
    "    if cookie_del : os.remove(cookie_del[0])\n",
    "        \n",
    "    us = str(username.get())\n",
    "    usp = str(Password.get())\n",
    "    users = str(User.get())\n",
    "    sys.path.append(os.path.join(sys.path[0], \"../\"))\n",
    "    \n",
    "    bot = Bot(\n",
    "    filter_users=True,\n",
    "    filter_private_users=False,\n",
    "    filter_previously_followed=True,\n",
    "    filter_business_accounts=True,\n",
    "    filter_verified_accounts=True,)\n",
    "    time.sleep(5)\n",
    "\n",
    "    bot.login(username= us, password = usp)\n",
    "    bot.follow_following(users)\n",
    "    \n",
    "    return\n",
    "\n",
    "def follow_users_from_file():\n",
    "    cookie_del = glob.glob(\"config/*cookie.json\")\n",
    "    if cookie_del : os.remove(cookie_del[0])\n",
    "        \n",
    "    us = str(username.get())\n",
    "    usp = str(Password.get())\n",
    "    filepath = str(file_path.get())\n",
    "    sys.path.append(os.path.join(sys.path[0], \"../\"))\n",
    "    \n",
    "    bot = Bot(filter_users=False)\n",
    "    time.sleep(5)\n",
    "    \n",
    "    users_to_follow = bot.read_list_from_file(filepath)\n",
    "    \n",
    "    if not users_to_follow:\n",
    "        exit()\n",
    "    else:\n",
    "        print(\"Found %d users in file.\" % len(users_to_follow))\n",
    "        \n",
    "    bot.login(username= us, password = usp)\n",
    "\n",
    "    bot.follow_users(users_to_follow)\n",
    "    \n",
    "    return\n",
    "\n",
    "def delete_all_medias():\n",
    "    cookie_del = glob.glob(\"config/*cookie.json\")\n",
    "    if cookie_del : os.remove(cookie_del[0])\n",
    "        \n",
    "    us = str(username.get())\n",
    "    usp = str(Password.get())\n",
    "    \n",
    "    sys.path.append(os.path.join(sys.path[0], \"../\"))\n",
    "    bot = Bot()    \n",
    "    time.sleep(5)\n",
    "    bot.login(username= us, password = usp)\n",
    "    medias = bot.get_total_user_medias(bot.user_id)\n",
    "    bot.delete_medias(medias)\n",
    "    \n",
    "    return\n",
    "\n",
    "def like_timeline():\n",
    "    cookie_del = glob.glob(\"config/*cookie.json\")\n",
    "    if cookie_del : os.remove(cookie_del[0])\n",
    "        \n",
    "    us = str(username.get())\n",
    "    usp = str(Password.get())\n",
    "    sys.path.append(os.path.join(sys.path[0], \"../\"))\n",
    "    bot = Bot()    \n",
    "    time.sleep(5)\n",
    "    bot.login(username= us, password = usp)\n",
    "    bot.like_timeline()\n",
    "    \n",
    "window = Tk()\n",
    "window.geometry(\"800x400\") #the size of the window\n",
    "window.title(\"Offline Insta | © Privima 2021\")\n",
    "window.iconbitmap(r\"/Users/emmanuel_bamidele/Desktop/Bamspace/Data_Science_Tutorial/Python projects/Image_Processing/img-icon.ico\")\n",
    "\n",
    "Programname = Label(window, font=('Verdana',25,'bold'), text=\"Insta-Virtual-Manager | Manage Instagram Offline\", fg=\"blue\")\n",
    "\n",
    "Programname.grid(row=1, column=6, padx=30, pady=10)\n",
    "\n",
    "Choosepath = Label(window, font=('Verdana',10,'italic'), text=\"First upload an image to post, username: your username, password: your password, user: their username, file path: file containing users (one per line)\", fg=\"red\")\n",
    "Choosepath.place(relx=.01, rely=.12) \n",
    "\n",
    "Username_label = Label(window, text=\"Username\", font=('Copperplate Gothic',15, 'bold'))\n",
    "Username_label.place(relx=.01, rely=.18)\n",
    "\n",
    "username = Entry(window)\n",
    "username.place(relx=.01, rely=.24)\n",
    "\n",
    "Password_label = Label(window, text=\"Password\", font=('Copperplate Gothic',15, 'bold'))\n",
    "Password_label.place(relx=.01, rely=.30)\n",
    "\n",
    "Password = Entry(window)\n",
    "Password.place(relx=.01, rely=.36)\n",
    "\n",
    "message_label = Label(window, text=\"Caption\", font=('Copperplate Gothic',15, 'bold'))\n",
    "message_label.place(relx=.01, rely=.42)\n",
    "\n",
    "caption = Text(window, height=6, width=70, wrap=WORD)\n",
    "caption.place(relx=.01, rely=.48) \n",
    "\n",
    "upload = Button(window, text=\"Post\", command=upload_photo, fg='blue') #link this to the function\n",
    "upload.place(relx=.02, rely=.75)\n",
    "\n",
    "post_story = Button(window, text=\"Post Story\", command=post_story, fg='blue') #link this to the function\n",
    "post_story.place(relx=.13, rely=.75)\n",
    "\n",
    "#follow and unfollow\n",
    "\n",
    "User_label = Label(window, text=\"Add User\", font=('Copperplate Gothic',15, 'bold'))\n",
    "User_label.place(relx=.40, rely=.18)\n",
    "\n",
    "User = Entry(window)\n",
    "User.place(relx=.40, rely=.24)\n",
    "\n",
    "users_filepath_label = Label(window, text=\"Users File Path\", font=('Copperplate Gothic',15, 'bold'))\n",
    "users_filepath_label.place(relx=.40, rely=.30)\n",
    "\n",
    "file_path = Entry(window)\n",
    "file_path.place(relx=.40, rely=.36)\n",
    "\n",
    "account_label = Label(window, text=\"Manage Account\", font=('Copperplate Gothic',15, 'bold'))\n",
    "account_label.place(relx=.75, rely=.18)\n",
    "\n",
    "unfollow_unfollowing = Button(window, text=\"Unfollow Nonfollowers\", command=unfollow_nonfollowers, fg='red') #link this to the function\n",
    "unfollow_unfollowing.place(relx=.75, rely=.24)\n",
    "              \n",
    "follow_users_followers = Button(window, text=\"Follow User followers\", command=follow_user_followers) #link this to the function\n",
    "follow_users_followers.place(relx=.75, rely=.36)\n",
    "              \n",
    "follow_users_from_file = Button(window, text=\"Follow Users in File\", command=follow_users_from_file) #link this to the function\n",
    "follow_users_from_file.place(relx=.75, rely=.48)\n",
    "\n",
    "              \n",
    "#delete_all_medias\n",
    "\n",
    "Delete_all_medias = Button(window, text=\"Delete all medias\", command=delete_all_medias, fg='red') #link this to the function\n",
    "Delete_all_medias.place(relx=.75, rely=.60)\n",
    "\n",
    "#like_timeline\n",
    "\n",
    "like_timeline = Button(window, text=\"Like Timeline\", command=like_timeline) #link this to the function\n",
    "like_timeline.place(relx=.75, rely=.72)\n",
    "              \n",
    "#Success?\n",
    "\n",
    "result = Text(window, height=2, width=40, wrap=WORD)\n",
    "result.place(relx=.3, rely=.75)\n",
    "\n",
    "photo = askopenfilename()\n",
    "\n",
    "window.mainloop() #to keep the window open continuously"
   ]
  }
 ],
 "metadata": {
  "kernelspec": {
   "display_name": "Python 3 (ipykernel)",
   "language": "python",
   "name": "python3"
  },
  "language_info": {
   "codemirror_mode": {
    "name": "ipython",
    "version": 3
   },
   "file_extension": ".py",
   "mimetype": "text/x-python",
   "name": "python",
   "nbconvert_exporter": "python",
   "pygments_lexer": "ipython3",
   "version": "3.8.12"
  }
 },
 "nbformat": 4,
 "nbformat_minor": 5
}
