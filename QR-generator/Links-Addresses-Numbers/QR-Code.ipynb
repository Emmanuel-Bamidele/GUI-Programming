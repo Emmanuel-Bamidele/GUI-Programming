{
 "cells": [
  {
   "cell_type": "code",
   "execution_count": 1,
   "id": "af37dadf",
   "metadata": {},
   "outputs": [],
   "source": [
    "import os\n",
    "import pyqrcode\n",
    "from pyqrcode import *\n",
    "from tkinter import *\n",
    "from tkinter import filedialog\n",
    "\n",
    "\n",
    "def qr_generator():\n",
    "    content = str(input_qr.get())\n",
    "    fname = str(filename.get())\n",
    "    \n",
    "    url = pyqrcode.create(str(content))\n",
    "    #fname = outpath + \"/\" + fname\n",
    "    url.svg(fname + \".svg\", scale=8)\n",
    "    url.eps(fname + \".eps\", scale=8)\n",
    "    \n",
    "    result.delete(0.0, END)\n",
    "    result.insert(END, \"Successful...\")\n",
    "\n",
    "\n",
    "window = Tk()\n",
    "window.geometry(\"250x250\")  # the size of the window\n",
    "window.title(\"© Bamidele 2021\")\n",
    "window.iconbitmap(\n",
    "    r\"/Users/emmanuel_bamidele/Desktop/Bamspace/Data_Science_Tutorial/Python projects/Codes/QR-Generator/qr-icon.ico\")\n",
    "\n",
    "Programname = Label(window, font=('Verdana', 25, 'bold'), text=\"QR-GEN-PY\", fg=\"blue\")\n",
    "Programname.place(relx=0.2, rely=0.02)\n",
    "\n",
    "input_label = Label(window, text=\"QR Content\", font=('Copperplate Gothic', 15, 'bold'))\n",
    "input_label.place(relx=.3, rely=.22)\n",
    "\n",
    "input_qr = Entry(window)\n",
    "input_qr.place(relx=.08, rely=.32)\n",
    "\n",
    "file_label = Label(window, text=\"File Name\", font=('Copperplate Gothic', 15, 'bold'))\n",
    "file_label.place(relx=.3, rely=.45)\n",
    "\n",
    "filename = Entry(window)\n",
    "filename.place(relx=.08, rely=.55)\n",
    "\n",
    "Generate = Button(window, text=\"Generate\", command=qr_generator)\n",
    "Generate.place(relx=.32, rely=.70)\n",
    "\n",
    "result = Text(window, height=1, width=20, wrap=WORD, fg=\"red\")\n",
    "result.insert(END, \"Enter Inputs...\")\n",
    "result.place(relx=.2, rely=.85)\n",
    "\n",
    "#out_path = filedialog.askdirectory()\n",
    "\n",
    "window.mainloop()"
   ]
  }
 ],
 "metadata": {
  "kernelspec": {
   "display_name": "Python 3 (ipykernel)",
   "language": "python",
   "name": "python3"
  },
  "language_info": {
   "codemirror_mode": {
    "name": "ipython",
    "version": 3
   },
   "file_extension": ".py",
   "mimetype": "text/x-python",
   "name": "python",
   "nbconvert_exporter": "python",
   "pygments_lexer": "ipython3",
   "version": "3.8.12"
  }
 },
 "nbformat": 4,
 "nbformat_minor": 5
}
